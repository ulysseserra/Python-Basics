{
 "cells": [
  {
   "cell_type": "markdown",
   "id": "6423497d",
   "metadata": {},
   "source": [
    "# Módulo 01 - Basics\n",
    "##### Python Basics I | Estruturas Repetição - While | Aula 07"
   ]
  }
 ],
 "metadata": {
  "kernelspec": {
   "display_name": "Python 3 (ipykernel)",
   "language": "python",
   "name": "python3"
  },
  "language_info": {
   "codemirror_mode": {
    "name": "ipython",
    "version": 3
   },
   "file_extension": ".py",
   "mimetype": "text/x-python",
   "name": "python",
   "nbconvert_exporter": "python",
   "pygments_lexer": "ipython3",
   "version": "3.9.12"
  }
 },
 "nbformat": 4,
 "nbformat_minor": 5
}
