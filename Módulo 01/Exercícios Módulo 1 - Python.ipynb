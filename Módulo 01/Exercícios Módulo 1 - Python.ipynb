{
 "cells": [
  {
   "cell_type": "markdown",
   "id": "36404131",
   "metadata": {},
   "source": [
    "# Exercícios Módulo 1 - Python"
   ]
  },
  {
   "cell_type": "markdown",
   "id": "c13f62f3",
   "metadata": {},
   "source": [
    "##### 1. Faça um programa que peça um valor monetário e diminua-o em 15%. Seu\n",
    "##### programa deve imprimir a mensagem “O novo valor é [valor]”."
   ]
  },
  {
   "cell_type": "code",
   "execution_count": 1,
   "id": "5825ccaf",
   "metadata": {},
   "outputs": [
    {
     "name": "stdout",
     "output_type": "stream",
     "text": [
      "Digite um valor monetário: 1000\n",
      "O novo valor é 850.0\n"
     ]
    }
   ],
   "source": [
    "valor_monetario = float(input('Digite um valor monetário: '))\n",
    "valor = valor_monetario - (valor_monetario * 0.15)\n",
    "print(f'O novo valor é {valor}')"
   ]
  },
  {
   "cell_type": "markdown",
   "id": "75528e04",
   "metadata": {},
   "source": [
    "##### 2. Faça um programa que leia a validade das informações:<br />\n",
    "\n",
    "##### a. Idade: entre 0 e 150;\n",
    "##### b. Salário: maior que 0;\n",
    "##### c. Sexo: M, F ou Outro;<br />\n",
    "\n",
    "##### O programa deve imprimir uma mensagem de erro para cada informação\n",
    "##### inválida."
   ]
  },
  {
   "cell_type": "code",
   "execution_count": 2,
   "id": "6381effa",
   "metadata": {},
   "outputs": [
    {
     "name": "stdout",
     "output_type": "stream",
     "text": [
      "Digite uma idade entre 0 e 150 anos: 151\n",
      "Valor inválido.\n",
      "Digite uma idade entre 0 e 150 anos: 150\n",
      "Valor inválido.\n",
      "Digite uma idade entre 0 e 150 anos: 15\n",
      "Digite um valor de salário maior que 0: -1\n",
      "Valor inválido.\n",
      "Digite um salário maior que 0: 1212\n",
      "Digite um sexo com um dos valores a seguir: M, F, Outros: hetero\n",
      "Valor inválido.\n",
      "Digite um sexo válido: M, F, Outros: pepa\n",
      "Valor inválido.\n",
      "Digite um sexo válido: M, F, Outros: outros\n"
     ]
    }
   ],
   "source": [
    "idade = input('Digite uma idade entre 0 e 150 anos: ')\n",
    "while int(idade) <= 0 or int(idade) >= 150:\n",
    "    idade = input('Valor inválido.\\nDigite uma idade entre 0 e 150 anos: ')\n",
    "    \n",
    "salario = input('Digite um valor de salário maior que 0: ')\n",
    "while float(salario) <=0:\n",
    "    salario = input('Valor inválido.\\nDigite um salário maior que 0: ')\n",
    "\n",
    "sexos = ['M', 'F', 'OUTROS']\n",
    "sexo = input('Digite um sexo com um dos valores a seguir: M, F, Outros: ')\n",
    "while sexo.upper() not in sexos:\n",
    "    sexo = input('Valor inválido.\\nDigite um sexo válido: M, F, Outros: ')"
   ]
  },
  {
   "cell_type": "markdown",
   "id": "08557911",
   "metadata": {},
   "source": [
    "##### 3. Vamos fazer um programa para verificar quem é o assassino de um crime.\n",
    "##### Para descobrir o assassino, a polícia faz um pequeno questionário com 5\n",
    "##### perguntas onde a resposta só pode ser sim ou não:<br/>\n",
    "##### a. Mora perto da vítima?\n",
    "##### b. Já trabalhou com a vítima?\n",
    "##### c. Telefonou para a vítima?\n",
    "##### d. Esteve no local do crime?\n",
    "##### e. Devia para a vítima?<br/>\n",
    "##### Cada resposta sim dá um ponto para o suspeito. A polícia considera que os\n",
    "##### suspeitos com 5 pontos são os assassinos, com 4 a 3 pontos são cúmplices e\n",
    "##### 2 pontos são apenas suspeitos, necessitando outras investigações. Valores\n",
    "##### iguais ou abaixo de 1 são liberados."
   ]
  },
  {
   "cell_type": "code",
   "execution_count": 3,
   "id": "37bef797",
   "metadata": {},
   "outputs": [
    {
     "name": "stdout",
     "output_type": "stream",
     "text": [
      "Responda todas as perguntas apenas com sim ou não.\n",
      "Mora perto da vítima? sim\n",
      "Já trabalhou com a vítima? não\n",
      "Telefonou para a vítima? sim\n",
      "Esteve no local do crime? não\n",
      "Devia para a vítima? sim\n",
      "Cumplice\n"
     ]
    }
   ],
   "source": [
    "from unidecode import unidecode\n",
    "perguntas = ['Mora perto da vítima? ','Já trabalhou com a vítima? ',\n",
    "            'Telefonou para a vítima? ','Esteve no local do crime? ',\n",
    "            'Devia para a vítima? ']\n",
    "opcoes= {\n",
    "    1: 'Liberado',\n",
    "    2: 'Suspeito',\n",
    "    3: 'Cumplice',\n",
    "    4: 'Cumplice',\n",
    "    5: 'Assassino'\n",
    "}\n",
    "contagem = 0\n",
    "possiveis = ['SIM', 'NAO']\n",
    "print('Responda todas as perguntas apenas com sim ou não.')\n",
    "\n",
    "for pergunta in perguntas:\n",
    "    resposta = unidecode(input(pergunta))\n",
    "    while resposta.upper() not in possiveis:\n",
    "        resposta = input(f'Resposta inválida. {pergunta}')\n",
    "    if resposta.upper() == 'SIM':\n",
    "        contagem +=1\n",
    "    else:\n",
    "        pass\n",
    "\n",
    "print(opcoes[contagem])"
   ]
  },
  {
   "cell_type": "markdown",
   "id": "aefb56e0",
   "metadata": {},
   "source": [
    "##### 4. Faça um programa que imprima a tabuada do 9 (de 9*1 a 9*10) usando loops."
   ]
  },
  {
   "cell_type": "code",
   "execution_count": 4,
   "id": "9df11e14",
   "metadata": {},
   "outputs": [
    {
     "name": "stdout",
     "output_type": "stream",
     "text": [
      "Digite o número que deseja fazer a tabuada: 9\n",
      "9 * 1 = 9\n",
      "9 * 2 = 18\n",
      "9 * 3 = 27\n",
      "9 * 4 = 36\n",
      "9 * 5 = 45\n",
      "9 * 6 = 54\n",
      "9 * 7 = 63\n",
      "9 * 8 = 72\n",
      "9 * 9 = 81\n",
      "9 * 10 = 90\n"
     ]
    }
   ],
   "source": [
    "tabuada = int(input('Digite o número que deseja fazer a tabuada: '))\n",
    "\n",
    "for i in range(1,11):\n",
    "    print(f'{tabuada} * {i} = {tabuada*i}')"
   ]
  }
 ],
 "metadata": {
  "kernelspec": {
   "display_name": "Python 3 (ipykernel)",
   "language": "python",
   "name": "python3"
  },
  "language_info": {
   "codemirror_mode": {
    "name": "ipython",
    "version": 3
   },
   "file_extension": ".py",
   "mimetype": "text/x-python",
   "name": "python",
   "nbconvert_exporter": "python",
   "pygments_lexer": "ipython3",
   "version": "3.9.12"
  }
 },
 "nbformat": 4,
 "nbformat_minor": 5
}
