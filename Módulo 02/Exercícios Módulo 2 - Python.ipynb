{
 "cells": [
  {
   "cell_type": "markdown",
   "id": "ac3346ad",
   "metadata": {},
   "source": [
    "# Exercícios Módulo 2 - Python"
   ]
  },
  {
   "cell_type": "markdown",
   "id": "14c6f4f4",
   "metadata": {},
   "source": [
    "##### 1. Faça um programa que olhe todos os itens de uma lista e diga quantos deles\n",
    "##### são pares."
   ]
  },
  {
   "cell_type": "code",
   "execution_count": 1,
   "id": "26e5d632",
   "metadata": {
    "scrolled": true
   },
   "outputs": [
    {
     "name": "stdout",
     "output_type": "stream",
     "text": [
      "A lista contem 6 valores pares.\n"
     ]
    }
   ],
   "source": [
    "lista = [1,2,3,4,5,6,7,8,9,10,12]\n",
    "contagem = 0\n",
    "\n",
    "for valor in lista:\n",
    "    if valor % 2 == 0:\n",
    "        contagem += 1\n",
    "print(f'A lista contem {contagem} valores pares.')"
   ]
  },
  {
   "cell_type": "code",
   "execution_count": 2,
   "id": "b25797dd",
   "metadata": {},
   "outputs": [
    {
     "name": "stdout",
     "output_type": "stream",
     "text": [
      "Olá, iremos criar uma lista aleatória de números, para isso preciso de algumas informações\n",
      "Digite o primeiro número do intervalo: 6\n",
      "Digite o ultimo numero do intervalo: 10\n",
      "Digite a quantidade de números aleatórios que serão gerados: 0\n",
      "A lista gerada foi []\n",
      "A lista contem 0 valores pares.\n"
     ]
    }
   ],
   "source": [
    "import random\n",
    "\n",
    "contagem = 0\n",
    "print('Olá, iremos criar uma lista aleatória de números, para isso preciso de algumas informações')\n",
    "\n",
    "inicial = int(input('Digite o primeiro número do intervalo: '))\n",
    "final = int(input('Digite o ultimo numero do intervalo: '))\n",
    "quantidade = int(input('Digite a quantidade de números aleatórios que serão gerados: '))\n",
    "\n",
    "lista = [random.randint(inicial, final) for x in range(quantidade)]\n",
    "\n",
    "for valor in lista:\n",
    "    if valor == 0:\n",
    "        pass\n",
    "    else:\n",
    "        if valor % 2 == 0:\n",
    "            contagem += 1\n",
    "\n",
    "print(f'A lista gerada foi {sorted(lista)}')\n",
    "print(f'A lista contem {contagem} valores pares.')"
   ]
  },
  {
   "cell_type": "markdown",
   "id": "5cd12b68",
   "metadata": {},
   "source": [
    "##### 2. Faça um programa que peça para o usuário digitar uma palavra e imprima\n",
    "##### cada letra em uma linha."
   ]
  },
  {
   "cell_type": "code",
   "execution_count": 3,
   "id": "716e4f5c",
   "metadata": {},
   "outputs": [
    {
     "name": "stdout",
     "output_type": "stream",
     "text": [
      "Digite uma palavra qualquer: exercicios\n",
      "e\n",
      "x\n",
      "e\n",
      "r\n",
      "c\n",
      "i\n",
      "c\n",
      "i\n",
      "o\n",
      "s\n"
     ]
    }
   ],
   "source": [
    "palavra = input('Digite uma palavra qualquer: ')\n",
    "\n",
    "for letra in palavra:\n",
    "    print(letra)"
   ]
  },
  {
   "cell_type": "markdown",
   "id": "d0b02485",
   "metadata": {},
   "source": [
    "##### 3. Faça uma função que recebe duas listas e retorna a soma item a item dessas\n",
    "##### listas.<br/>\n",
    "##### Exemplo: Se a função receber as listas [1,4,3] e [3,5,1], então a função deve\n",
    "##### retornar [1+3, 4+5, 3+1] = [4, 9, 4]."
   ]
  },
  {
   "cell_type": "code",
   "execution_count": 4,
   "id": "302ef514",
   "metadata": {},
   "outputs": [
    {
     "data": {
      "text/plain": [
       "[4, 9, 4]"
      ]
     },
     "execution_count": 4,
     "metadata": {},
     "output_type": "execute_result"
    }
   ],
   "source": [
    "def soma_lista(lista1, lista2):\n",
    "    nova_lista = []\n",
    "    \n",
    "    for i in range(len(lista1)):\n",
    "        nova_lista.append(lista1[i] + lista2[i])\n",
    "    \n",
    "    return nova_lista\n",
    "\n",
    "lista1 = [1,4,3]\n",
    "lista2 = [3,5,1]\n",
    "\n",
    "soma_lista(lista1, lista2)"
   ]
  },
  {
   "cell_type": "markdown",
   "id": "f40acd87",
   "metadata": {},
   "source": [
    "##### 4. Crie um dicionário cujas chaves são os meses do ano e os valores são a\n",
    "##### duração (em dias) de cada mês."
   ]
  },
  {
   "cell_type": "code",
   "execution_count": 5,
   "id": "adebd8de",
   "metadata": {},
   "outputs": [],
   "source": [
    "ano = {\n",
    "    'Janeiro': 31,\n",
    "    'Fevereiro': 28,\n",
    "    'Março': 31,\n",
    "    'Abril': 30,\n",
    "    'Maio': 31,\n",
    "    'Junho': 30,\n",
    "    'Julho': 31,\n",
    "    'Agosto': 31,\n",
    "    'Setembro': 30,\n",
    "    'Outubro': 31,\n",
    "    'Novembro': 30,\n",
    "    'Dezembro': 31,\n",
    "}"
   ]
  },
  {
   "cell_type": "markdown",
   "id": "fe3def2f",
   "metadata": {},
   "source": [
    "##### 5. Imprima as chaves seguidas dos seus valores para dicionário criado no\n",
    "##### exercício anterior.\n",
    "##### Exemplo:<br/>\n",
    "##### Janeiro - 31\n",
    "##### Fevereiro - 28\n",
    "##### Março - 31\n",
    "##### Etc..."
   ]
  },
  {
   "cell_type": "code",
   "execution_count": 6,
   "id": "b4f358bd",
   "metadata": {},
   "outputs": [
    {
     "name": "stdout",
     "output_type": "stream",
     "text": [
      "Janeiro - 31\n",
      "Fevereiro - 28\n",
      "Março - 31\n",
      "Abril - 30\n",
      "Maio - 31\n",
      "Junho - 30\n",
      "Julho - 31\n",
      "Agosto - 31\n",
      "Setembro - 30\n",
      "Outubro - 31\n",
      "Novembro - 30\n",
      "Dezembro - 31\n"
     ]
    }
   ],
   "source": [
    "for chave in ano.keys():\n",
    "    print(f'{chave} - {ano[chave]}')"
   ]
  }
 ],
 "metadata": {
  "kernelspec": {
   "display_name": "Python 3 (ipykernel)",
   "language": "python",
   "name": "python3"
  },
  "language_info": {
   "codemirror_mode": {
    "name": "ipython",
    "version": 3
   },
   "file_extension": ".py",
   "mimetype": "text/x-python",
   "name": "python",
   "nbconvert_exporter": "python",
   "pygments_lexer": "ipython3",
   "version": "3.9.12"
  }
 },
 "nbformat": 4,
 "nbformat_minor": 5
}
