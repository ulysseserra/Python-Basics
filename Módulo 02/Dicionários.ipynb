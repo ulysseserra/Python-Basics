{
 "cells": [
  {
   "cell_type": "markdown",
   "id": "d4f04b7c",
   "metadata": {},
   "source": [
    "# Módulo 02 - Estruturas avançadas\n",
    "##### Python Basics II | Dicionários  | Aula 11"
   ]
  },
  {
   "cell_type": "code",
   "execution_count": 131,
   "id": "014d60f4",
   "metadata": {},
   "outputs": [],
   "source": [
    "dados_cidade = {\n",
    "    \"Nome\": \"Manaus\",\n",
    "    \"Estado\": \"Amazonas\",\n",
    "    \"Area km2\": 1571000,\n",
    "    \"Populacao Milhões\": 4207714,\n",
    "}"
   ]
  },
  {
   "cell_type": "code",
   "execution_count": 132,
   "id": "84d330aa",
   "metadata": {},
   "outputs": [
    {
     "name": "stdout",
     "output_type": "stream",
     "text": [
      "<class 'dict'>\n"
     ]
    }
   ],
   "source": [
    "print(type(dados_cidade))"
   ]
  },
  {
   "cell_type": "code",
   "execution_count": 133,
   "id": "47faeef4",
   "metadata": {},
   "outputs": [
    {
     "name": "stdout",
     "output_type": "stream",
     "text": [
      "{'Nome': 'Manaus', 'Estado': 'Amazonas', 'Area km2': 1571000, 'Populacao Milhões': 4207714}\n"
     ]
    }
   ],
   "source": [
    "print(dados_cidade)"
   ]
  },
  {
   "cell_type": "code",
   "execution_count": 134,
   "id": "c5ee4f2a",
   "metadata": {},
   "outputs": [],
   "source": [
    "dados_cidade[\"País\"] = \"Brasil\""
   ]
  },
  {
   "cell_type": "code",
   "execution_count": 135,
   "id": "a2218996",
   "metadata": {},
   "outputs": [
    {
     "name": "stdout",
     "output_type": "stream",
     "text": [
      "{'Nome': 'Manaus', 'Estado': 'Amazonas', 'Area km2': 1571000, 'Populacao Milhões': 4207714, 'País': 'Brasil'}\n"
     ]
    }
   ],
   "source": [
    "print(dados_cidade)"
   ]
  },
  {
   "cell_type": "code",
   "execution_count": 136,
   "id": "dd929c8a",
   "metadata": {},
   "outputs": [
    {
     "name": "stdout",
     "output_type": "stream",
     "text": [
      "Manaus\n"
     ]
    }
   ],
   "source": [
    "print(dados_cidade[\"Nome\"])"
   ]
  },
  {
   "cell_type": "code",
   "execution_count": 137,
   "id": "cb1a439c",
   "metadata": {},
   "outputs": [
    {
     "name": "stdout",
     "output_type": "stream",
     "text": [
      "{'Nome': 'Manaus', 'Estado': 'Amazonas', 'Area km2': 1571000, 'Populacao Milhões': 4207714, 'País': 'Brasil', 'Área km2': 4207715}\n"
     ]
    }
   ],
   "source": [
    "dados_cidade[\"Área km2\"] = 4207715\n",
    "print(dados_cidade)"
   ]
  },
  {
   "cell_type": "code",
   "execution_count": 138,
   "id": "f54569c1",
   "metadata": {},
   "outputs": [],
   "source": [
    "dados_cidade_2 = dados_cidade"
   ]
  },
  {
   "cell_type": "code",
   "execution_count": 139,
   "id": "df315df9",
   "metadata": {},
   "outputs": [],
   "source": [
    "dados_cidade_2[\"Nome\"] = \"Manacapuru\""
   ]
  },
  {
   "cell_type": "code",
   "execution_count": 140,
   "id": "24dd20fd",
   "metadata": {},
   "outputs": [
    {
     "name": "stdout",
     "output_type": "stream",
     "text": [
      "{'Nome': 'Manacapuru', 'Estado': 'Amazonas', 'Area km2': 1571000, 'Populacao Milhões': 4207714, 'País': 'Brasil', 'Área km2': 4207715}\n"
     ]
    }
   ],
   "source": [
    "print(dados_cidade_2)"
   ]
  },
  {
   "cell_type": "code",
   "execution_count": 141,
   "id": "02568376",
   "metadata": {},
   "outputs": [
    {
     "name": "stdout",
     "output_type": "stream",
     "text": [
      "{'Nome': 'Manacapuru', 'Estado': 'Amazonas', 'Area km2': 1571000, 'Populacao Milhões': 4207714, 'País': 'Brasil', 'Área km2': 4207715}\n"
     ]
    }
   ],
   "source": [
    "print(dados_cidade)"
   ]
  },
  {
   "cell_type": "code",
   "execution_count": 142,
   "id": "fc561b2e",
   "metadata": {},
   "outputs": [],
   "source": [
    "dados_cidade_3 = dados_cidade.copy()"
   ]
  },
  {
   "cell_type": "code",
   "execution_count": 143,
   "id": "2ebcc9ff",
   "metadata": {},
   "outputs": [],
   "source": [
    "dados_cidade_3[\"Estado\"] = \"Pará\""
   ]
  },
  {
   "cell_type": "code",
   "execution_count": 144,
   "id": "931dd82c",
   "metadata": {},
   "outputs": [
    {
     "name": "stdout",
     "output_type": "stream",
     "text": [
      "{'Nome': 'Manacapuru', 'Estado': 'Amazonas', 'Area km2': 1571000, 'Populacao Milhões': 4207714, 'País': 'Brasil', 'Área km2': 4207715}\n"
     ]
    }
   ],
   "source": [
    "print(dados_cidade)"
   ]
  },
  {
   "cell_type": "code",
   "execution_count": 145,
   "id": "c26f346f",
   "metadata": {},
   "outputs": [
    {
     "name": "stdout",
     "output_type": "stream",
     "text": [
      "{'Nome': 'Manacapuru', 'Estado': 'Amazonas', 'Area km2': 1571000, 'Populacao Milhões': 4207714, 'País': 'Brasil', 'Área km2': 4207715, 'Número de Municípios': 62, 'Fundação': 1850}\n"
     ]
    }
   ],
   "source": [
    "novos_dados = {\n",
    "    \"Número de Municípios\": 62,\n",
    "    \"Fundação\": 1850,\n",
    "}\n",
    "\n",
    "dados_cidade.update(novos_dados)\n",
    "print(dados_cidade)"
   ]
  },
  {
   "cell_type": "code",
   "execution_count": 146,
   "id": "4e5232c3",
   "metadata": {},
   "outputs": [
    {
     "name": "stdout",
     "output_type": "stream",
     "text": [
      "None\n"
     ]
    }
   ],
   "source": [
    "print(dados_cidade.get(\"Prefeito\"))\n"
   ]
  },
  {
   "cell_type": "code",
   "execution_count": 148,
   "id": "b1fa5e3d",
   "metadata": {},
   "outputs": [
    {
     "name": "stdout",
     "output_type": "stream",
     "text": [
      "dict_keys(['Nome', 'Estado', 'Area km2', 'Populacao Milhões', 'País', 'Área km2', 'Número de Municípios', 'Fundação'])\n",
      "-----------\n",
      "dict_values(['Manacapuru', 'Amazonas', 1571000, 4207714, 'Brasil', 4207715, 62, 1850])\n",
      "-----------\n",
      "dict_items([('Nome', 'Manacapuru'), ('Estado', 'Amazonas'), ('Area km2', 1571000), ('Populacao Milhões', 4207714), ('País', 'Brasil'), ('Área km2', 4207715), ('Número de Municípios', 62), ('Fundação', 1850)])\n"
     ]
    }
   ],
   "source": [
    "print(dados_cidade.keys()) # retorna uma lista de chaves de um dicionário\n",
    "print(\"-----------\")\n",
    "print(dados_cidade.values()) # retorna uma lista de valores de um dicionário\n",
    "print(\"-----------\")\n",
    "print(dados_cidade.items()) # retorna uma lista de tuplas (chave, valor) de um dicionário"
   ]
  }
 ],
 "metadata": {
  "kernelspec": {
   "display_name": "Python 3 (ipykernel)",
   "language": "python",
   "name": "python3"
  },
  "language_info": {
   "codemirror_mode": {
    "name": "ipython",
    "version": 3
   },
   "file_extension": ".py",
   "mimetype": "text/x-python",
   "name": "python",
   "nbconvert_exporter": "python",
   "pygments_lexer": "ipython3",
   "version": "3.9.12"
  }
 },
 "nbformat": 4,
 "nbformat_minor": 5
}
