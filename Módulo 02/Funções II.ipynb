{
 "cells": [
  {
   "cell_type": "markdown",
   "id": "090554ca",
   "metadata": {},
   "source": [
    "# Módulo 02 -  Função II\n",
    "##### Python Basics II | Funções II : Args e Cords | Aula 14"
   ]
  },
  {
   "cell_type": "markdown",
   "id": "e46bbe99",
   "metadata": {},
   "source": [
    "###### Utilizando - args"
   ]
  },
  {
   "cell_type": "code",
   "execution_count": 1,
   "id": "74ee9c39",
   "metadata": {},
   "outputs": [],
   "source": [
    "    def calcular_media(valor1, valor2, valor3):\n",
    "    soma = valor1 + valor2 + valor3\n",
    "    media = soma / 3\n",
    "    return media"
   ]
  },
  {
   "cell_type": "code",
   "execution_count": 2,
   "id": "d018a27f",
   "metadata": {},
   "outputs": [],
   "source": [
    "def calcular_media(*args):\n",
    "    print(args, type(args))"
   ]
  },
  {
   "cell_type": "code",
   "execution_count": 3,
   "id": "8e5e05fb",
   "metadata": {},
   "outputs": [
    {
     "name": "stdout",
     "output_type": "stream",
     "text": [
      "(10, 8, 9) <class 'tuple'>\n"
     ]
    }
   ],
   "source": [
    "calcular_media(10, 8, 9)"
   ]
  },
  {
   "cell_type": "code",
   "execution_count": 4,
   "id": "f82b0753",
   "metadata": {},
   "outputs": [],
   "source": [
    "def calcular_media(*args):\n",
    "    soma = sum(args)\n",
    "    media = soma / len(args)\n",
    "    return media"
   ]
  },
  {
   "cell_type": "code",
   "execution_count": 5,
   "id": "d1b79c5a",
   "metadata": {},
   "outputs": [
    {
     "data": {
      "text/plain": [
       "9.0"
      ]
     },
     "execution_count": 5,
     "metadata": {},
     "output_type": "execute_result"
    }
   ],
   "source": [
    "calcular_media(10, 8, 9)"
   ]
  },
  {
   "cell_type": "code",
   "execution_count": 6,
   "id": "e59c361f",
   "metadata": {},
   "outputs": [],
   "source": [
    "def calcular_media(*args, margem):\n",
    "    soma = sum(args)\n",
    "    media = soma / len(args)\n",
    "    return media"
   ]
  },
  {
   "cell_type": "code",
   "execution_count": 8,
   "id": "56ba4743",
   "metadata": {},
   "outputs": [
    {
     "data": {
      "text/plain": [
       "9.0"
      ]
     },
     "execution_count": 8,
     "metadata": {},
     "output_type": "execute_result"
    }
   ],
   "source": [
    "calcular_media(10, 8, 9, margem=0.3)"
   ]
  },
  {
   "cell_type": "markdown",
   "id": "b7070bf2",
   "metadata": {},
   "source": [
    "###### Utilizando - cords"
   ]
  },
  {
   "cell_type": "code",
   "execution_count": 9,
   "id": "76bcfd2e",
   "metadata": {},
   "outputs": [],
   "source": [
    "def print_infor(**kwargs):\n",
    "    print(kwargs, type(kwargs))"
   ]
  },
  {
   "cell_type": "code",
   "execution_count": 15,
   "id": "0cd4d0bd",
   "metadata": {},
   "outputs": [
    {
     "name": "stdout",
     "output_type": "stream",
     "text": [
      "{'nome': 'Ulysses', 'nomedomeio': 'Ferreira', 'sobrenome': 'Serra'} <class 'dict'>\n"
     ]
    }
   ],
   "source": [
    "print_infor(nome = \"Ulysses\", nomedomeio = \"Ferreira\", sobrenome = \"Serra\")"
   ]
  }
 ],
 "metadata": {
  "kernelspec": {
   "display_name": "Python 3 (ipykernel)",
   "language": "python",
   "name": "python3"
  },
  "language_info": {
   "codemirror_mode": {
    "name": "ipython",
    "version": 3
   },
   "file_extension": ".py",
   "mimetype": "text/x-python",
   "name": "python",
   "nbconvert_exporter": "python",
   "pygments_lexer": "ipython3",
   "version": "3.9.12"
  }
 },
 "nbformat": 4,
 "nbformat_minor": 5
}
