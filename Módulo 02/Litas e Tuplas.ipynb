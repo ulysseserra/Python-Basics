{
 "cells": [
  {
   "cell_type": "markdown",
   "id": "733b3497",
   "metadata": {},
   "source": [
    "# Módulo 02 - Estruturas avançadas\n",
    "##### Python Basics II | Listas e Tuplas  | Aula 08"
   ]
  },
  {
   "cell_type": "markdown",
   "id": "3fe062c5",
   "metadata": {},
   "source": [
    "###### Utilizando - list"
   ]
  },
  {
   "cell_type": "code",
   "execution_count": 1,
   "id": "6c5f7dbe",
   "metadata": {},
   "outputs": [
    {
     "name": "stdout",
     "output_type": "stream",
     "text": [
      "['Brasil', 'Argentina', 'China', 'Canadá', 'Japão']\n"
     ]
    }
   ],
   "source": [
    "nomes_paises = [\"Brasil\", \"Argentina\", \"China\", \"Canadá\", \"Japão\"]\n",
    "print(nomes_paises)"
   ]
  },
  {
   "cell_type": "code",
   "execution_count": 2,
   "id": "4703f5ba",
   "metadata": {},
   "outputs": [
    {
     "name": "stdout",
     "output_type": "stream",
     "text": [
      "Tamanho da lista 5\n"
     ]
    }
   ],
   "source": [
    "print(\"Tamanho da lista\", len(nomes_paises))"
   ]
  },
  {
   "cell_type": "code",
   "execution_count": 3,
   "id": "48f6da30",
   "metadata": {},
   "outputs": [
    {
     "name": "stdout",
     "output_type": "stream",
     "text": [
      "País:  Canadá\n"
     ]
    }
   ],
   "source": [
    "print(\"País: \", nomes_paises[3])"
   ]
  },
  {
   "cell_type": "code",
   "execution_count": 4,
   "id": "ad9aa11a",
   "metadata": {},
   "outputs": [
    {
     "name": "stdout",
     "output_type": "stream",
     "text": [
      "País:  Canadá\n"
     ]
    }
   ],
   "source": [
    "print(\"País: \", nomes_paises[-2])"
   ]
  },
  {
   "cell_type": "code",
   "execution_count": 5,
   "id": "bd4eb573",
   "metadata": {},
   "outputs": [
    {
     "name": "stdout",
     "output_type": "stream",
     "text": [
      "País Inglaterra\n",
      "['Brasil', 'Argentina', 'China', 'Inglaterra', 'Japão']\n"
     ]
    }
   ],
   "source": [
    "nomes_paises[3] = \"Inglaterra\"\n",
    "print(\"País\", nomes_paises[3])\n",
    "print(nomes_paises)"
   ]
  },
  {
   "cell_type": "markdown",
   "id": "10ee46b3",
   "metadata": {},
   "source": [
    "######  fatiamento (slicing)"
   ]
  },
  {
   "cell_type": "code",
   "execution_count": 6,
   "id": "5b872e78",
   "metadata": {},
   "outputs": [
    {
     "name": "stdout",
     "output_type": "stream",
     "text": [
      "['Argentina', 'China']\n"
     ]
    }
   ],
   "source": [
    "print(nomes_paises[1:3])"
   ]
  },
  {
   "cell_type": "code",
   "execution_count": 7,
   "id": "b049328b",
   "metadata": {},
   "outputs": [
    {
     "name": "stdout",
     "output_type": "stream",
     "text": [
      "['Argentina', 'China', 'Inglaterra']\n"
     ]
    }
   ],
   "source": [
    "print(nomes_paises[1:-1])"
   ]
  },
  {
   "cell_type": "code",
   "execution_count": 8,
   "id": "d38df79f",
   "metadata": {},
   "outputs": [
    {
     "name": "stdout",
     "output_type": "stream",
     "text": [
      "['China', 'Inglaterra', 'Japão']\n"
     ]
    }
   ],
   "source": [
    "print(nomes_paises[2:])"
   ]
  },
  {
   "cell_type": "code",
   "execution_count": 9,
   "id": "bec35d74",
   "metadata": {},
   "outputs": [
    {
     "name": "stdout",
     "output_type": "stream",
     "text": [
      "['Brasil', 'Argentina', 'China']\n"
     ]
    }
   ],
   "source": [
    "print(nomes_paises[:3])"
   ]
  },
  {
   "cell_type": "code",
   "execution_count": 10,
   "id": "f65d0dbb",
   "metadata": {},
   "outputs": [
    {
     "name": "stdout",
     "output_type": "stream",
     "text": [
      "['Brasil', 'Argentina', 'China', 'Inglaterra', 'Japão']\n"
     ]
    }
   ],
   "source": [
    "print(nomes_paises[:])"
   ]
  },
  {
   "cell_type": "code",
   "execution_count": 11,
   "id": "1eec3941",
   "metadata": {},
   "outputs": [
    {
     "name": "stdout",
     "output_type": "stream",
     "text": [
      "['Brasil', 'China', 'Japão']\n"
     ]
    }
   ],
   "source": [
    "print(nomes_paises[::2])"
   ]
  },
  {
   "cell_type": "code",
   "execution_count": 12,
   "id": "269a45ad",
   "metadata": {},
   "outputs": [
    {
     "name": "stdout",
     "output_type": "stream",
     "text": [
      "['Japão', 'Inglaterra', 'China', 'Argentina', 'Brasil']\n"
     ]
    }
   ],
   "source": [
    "print(nomes_paises[::-1])"
   ]
  },
  {
   "cell_type": "code",
   "execution_count": 13,
   "id": "b16e4407",
   "metadata": {},
   "outputs": [
    {
     "name": "stdout",
     "output_type": "stream",
     "text": [
      "True\n"
     ]
    }
   ],
   "source": [
    "print(\"Brasil\" in nomes_paises)"
   ]
  },
  {
   "cell_type": "code",
   "execution_count": 14,
   "id": "1289fc4d",
   "metadata": {},
   "outputs": [
    {
     "name": "stdout",
     "output_type": "stream",
     "text": [
      "False\n"
     ]
    }
   ],
   "source": [
    "print(\"Inglaterra\" not in nomes_paises)"
   ]
  },
  {
   "cell_type": "code",
   "execution_count": 15,
   "id": "71833e36",
   "metadata": {},
   "outputs": [],
   "source": [
    "lista_capitais = []"
   ]
  },
  {
   "cell_type": "code",
   "execution_count": 16,
   "id": "be7e705a",
   "metadata": {},
   "outputs": [
    {
     "name": "stdout",
     "output_type": "stream",
     "text": [
      "['Brasília', 'Buenos Aires', 'Pequim', 'Bogotá']\n"
     ]
    }
   ],
   "source": [
    "lista_capitais.append(\"Brasília\")\n",
    "lista_capitais.append(\"Buenos Aires\")\n",
    "lista_capitais.append(\"Pequim\")\n",
    "lista_capitais.append(\"Bogotá\")\n",
    "\n",
    "print(lista_capitais)"
   ]
  },
  {
   "cell_type": "code",
   "execution_count": 17,
   "id": "c1945ec9",
   "metadata": {},
   "outputs": [
    {
     "name": "stdout",
     "output_type": "stream",
     "text": [
      "['Brasília', 'Buenos Aires', 'Paris', 'Pequim', 'Bogotá']\n"
     ]
    }
   ],
   "source": [
    "lista_capitais.insert(2, \"Paris\")\n",
    "print(lista_capitais)"
   ]
  },
  {
   "cell_type": "code",
   "execution_count": 18,
   "id": "acf48280",
   "metadata": {},
   "outputs": [
    {
     "name": "stdout",
     "output_type": "stream",
     "text": [
      "['Brasília', 'Paris', 'Pequim', 'Bogotá']\n"
     ]
    }
   ],
   "source": [
    "lista_capitais.remove(\"Buenos Aires\")\n",
    "print(lista_capitais)"
   ]
  },
  {
   "cell_type": "code",
   "execution_count": 19,
   "id": "8ecefa8e",
   "metadata": {},
   "outputs": [
    {
     "name": "stdout",
     "output_type": "stream",
     "text": [
      "['Brasília', 'Paris', 'Bogotá'] Pequim\n"
     ]
    }
   ],
   "source": [
    "removido = lista_capitais.pop(2)\n",
    "print(lista_capitais, removido)"
   ]
  },
  {
   "cell_type": "markdown",
   "id": "d180a4f8",
   "metadata": {},
   "source": [
    "###### Utilizando - tuple"
   ]
  },
  {
   "cell_type": "code",
   "execution_count": 53,
   "id": "f5ecf8e0",
   "metadata": {},
   "outputs": [
    {
     "name": "stdout",
     "output_type": "stream",
     "text": [
      "('Maranhão', 'Pará', 'Piauí', 'Acre', 'Amapá') <class 'tuple'>\n"
     ]
    }
   ],
   "source": [
    "nomes_estados = (\"Maranhão\", \"Pará\", \"Piauí\", \"Acre\", \"Amapá\")\n",
    "print(nomes_estados, type(nomes_estados))"
   ]
  },
  {
   "cell_type": "code",
   "execution_count": 54,
   "id": "7e51c278",
   "metadata": {},
   "outputs": [
    {
     "name": "stdout",
     "output_type": "stream",
     "text": [
      "('Maranhão', 'Pará', 'Piauí', 'Acre', 'Amapá') <class 'tuple'>\n"
     ]
    }
   ],
   "source": [
    "nomes_estados = \"Maranhão\", \"Pará\", \"Piauí\", \"Acre\", \"Amapá\"\n",
    "print(nomes_estados, type(nomes_estados))"
   ]
  },
  {
   "cell_type": "code",
   "execution_count": 55,
   "id": "09efd662",
   "metadata": {},
   "outputs": [
    {
     "name": "stdout",
     "output_type": "stream",
     "text": [
      "('Amazonas',) <class 'tuple'>\n"
     ]
    }
   ],
   "source": [
    "nome_estado = \"Amazonas\",\n",
    "print(nome_estado, type(nome_estado))"
   ]
  },
  {
   "cell_type": "code",
   "execution_count": 22,
   "id": "ae94532b",
   "metadata": {},
   "outputs": [
    {
     "name": "stdout",
     "output_type": "stream",
     "text": [
      "('Coroatá', 'Santarém', 'Picos', 'Cruzeiro do Sul', 'Santana') <class 'tuple'>\n"
     ]
    }
   ],
   "source": [
    "nomes_cidades = (\"Coroatá\" , \"Santarém\", \"Picos\", \"Cruzeiro do Sul\", \"Santana\",)\n",
    "print(nomes_cidades, type(nomes_cidades))"
   ]
  },
  {
   "cell_type": "code",
   "execution_count": 23,
   "id": "969ba8f7",
   "metadata": {},
   "outputs": [
    {
     "name": "stdout",
     "output_type": "stream",
     "text": [
      "('Coroatá', 'Santarém', 'Picos', 'Cruzeiro do Sul', 'Santana') <class 'tuple'>\n"
     ]
    }
   ],
   "source": [
    "nomes_cidades = \"Coroatá\" , \"Santarém\", \"Picos\", \"Cruzeiro do Sul\", \"Santana\",\n",
    "print(nomes_cidades, type(nomes_cidades))"
   ]
  },
  {
   "cell_type": "code",
   "execution_count": 56,
   "id": "341b92c7",
   "metadata": {},
   "outputs": [
    {
     "name": "stdout",
     "output_type": "stream",
     "text": [
      "('Manaus',) <class 'tuple'>\n"
     ]
    }
   ],
   "source": [
    "nome_cidade = \"Manaus\",\n",
    "print(nome_cidade, type(nome_cidade))"
   ]
  },
  {
   "cell_type": "code",
   "execution_count": 57,
   "id": "d9522685",
   "metadata": {},
   "outputs": [
    {
     "data": {
      "text/plain": [
       "5"
      ]
     },
     "execution_count": 57,
     "metadata": {},
     "output_type": "execute_result"
    }
   ],
   "source": [
    "len(nomes_estados)"
   ]
  },
  {
   "cell_type": "code",
   "execution_count": 25,
   "id": "434b2452",
   "metadata": {},
   "outputs": [
    {
     "data": {
      "text/plain": [
       "5"
      ]
     },
     "execution_count": 25,
     "metadata": {},
     "output_type": "execute_result"
    }
   ],
   "source": [
    "len(nomes_cidades)"
   ]
  },
  {
   "cell_type": "code",
   "execution_count": 26,
   "id": "fc7f202b",
   "metadata": {},
   "outputs": [
    {
     "data": {
      "text/plain": [
       "'Maranhão'"
      ]
     },
     "execution_count": 26,
     "metadata": {},
     "output_type": "execute_result"
    }
   ],
   "source": [
    " nomes_estados[0]"
   ]
  },
  {
   "cell_type": "code",
   "execution_count": 27,
   "id": "104909f8",
   "metadata": {},
   "outputs": [
    {
     "data": {
      "text/plain": [
       "'Coroatá'"
      ]
     },
     "execution_count": 27,
     "metadata": {},
     "output_type": "execute_result"
    }
   ],
   "source": [
    " nomes_cidades[0]"
   ]
  },
  {
   "cell_type": "code",
   "execution_count": 28,
   "id": "405ad670",
   "metadata": {},
   "outputs": [],
   "source": [
    "ma, pa, pi, ac, ap = nomes_estados"
   ]
  },
  {
   "cell_type": "code",
   "execution_count": 29,
   "id": "5e9524af",
   "metadata": {},
   "outputs": [
    {
     "name": "stdout",
     "output_type": "stream",
     "text": [
      "Piauí Acre Amapá\n"
     ]
    }
   ],
   "source": [
    "print(pi, ac, ap)"
   ]
  },
  {
   "cell_type": "code",
   "execution_count": 30,
   "id": "b8b6aa39",
   "metadata": {},
   "outputs": [],
   "source": [
    "cta, stm, pic, czs, stn = nomes_cidades"
   ]
  },
  {
   "cell_type": "code",
   "execution_count": 59,
   "id": "9e4c098c",
   "metadata": {},
   "outputs": [
    {
     "name": "stdout",
     "output_type": "stream",
     "text": [
      "Santarém Picos Santana\n"
     ]
    }
   ],
   "source": [
    "print(stm, pic, stn)"
   ]
  },
  {
   "cell_type": "code",
   "execution_count": 60,
   "id": "559c3c59",
   "metadata": {},
   "outputs": [
    {
     "name": "stdout",
     "output_type": "stream",
     "text": [
      "Maranhão Pará Piauí Acre Amapá\n"
     ]
    }
   ],
   "source": [
    "print(*nomes_estados)"
   ]
  },
  {
   "cell_type": "code",
   "execution_count": 63,
   "id": "1276d0d9",
   "metadata": {},
   "outputs": [
    {
     "name": "stdout",
     "output_type": "stream",
     "text": [
      "Coroatá  Santarém Picos Cruzeiro do Sul Santana\n"
     ]
    }
   ],
   "source": [
    "print(*nomes_cidades)"
   ]
  }
 ],
 "metadata": {
  "kernelspec": {
   "display_name": "Python 3 (ipykernel)",
   "language": "python",
   "name": "python3"
  },
  "language_info": {
   "codemirror_mode": {
    "name": "ipython",
    "version": 3
   },
   "file_extension": ".py",
   "mimetype": "text/x-python",
   "name": "python",
   "nbconvert_exporter": "python",
   "pygments_lexer": "ipython3",
   "version": "3.9.12"
  }
 },
 "nbformat": 4,
 "nbformat_minor": 5
}
