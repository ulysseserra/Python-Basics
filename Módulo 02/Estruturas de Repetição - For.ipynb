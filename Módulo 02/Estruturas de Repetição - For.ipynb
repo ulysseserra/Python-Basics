{
 "cells": [
  {
   "cell_type": "markdown",
   "id": "fbd88890",
   "metadata": {},
   "source": [
    "# Módulo 02 - Estruturas avançadas\n",
    "##### Python Basics II | Estrutura de Repetição: For | Aula 12"
   ]
  },
  {
   "cell_type": "markdown",
   "id": "fb38f40a",
   "metadata": {},
   "source": [
    "###### Utilizando - for"
   ]
  },
  {
   "cell_type": "code",
   "execution_count": 2,
   "id": "cb90342b",
   "metadata": {
    "scrolled": true
   },
   "outputs": [
    {
     "name": "stdout",
     "output_type": "stream",
     "text": [
      "São Paulo\n",
      "Londres\n",
      "Tóquio\n",
      "Paris\n"
     ]
    }
   ],
   "source": [
    "nomes_cidades = [\"São Paulo\", \"Londres\", \"Tóquio\", \"Paris\"]\n",
    "for nome in nomes_cidades:\n",
    "    print(nome)"
   ]
  },
  {
   "cell_type": "markdown",
   "id": "537359e7",
   "metadata": {},
   "source": [
    "###### Utilizando - while"
   ]
  },
  {
   "cell_type": "code",
   "execution_count": 3,
   "id": "b0022906",
   "metadata": {},
   "outputs": [
    {
     "name": "stdout",
     "output_type": "stream",
     "text": [
      "São Paulo\n",
      "Londres\n",
      "Tóquio\n",
      "Paris\n"
     ]
    }
   ],
   "source": [
    "contador = 0\n",
    "nomes_cidades = [\"São Paulo\", \"Londres\", \"Tóquio\", \"Paris\"]\n",
    "while contador < len(nomes_cidades):\n",
    "    print(nomes_cidades[contador])\n",
    "    contador = contador + 1"
   ]
  },
  {
   "cell_type": "markdown",
   "id": "507ec204",
   "metadata": {},
   "source": [
    "###### Utilizando - tupla"
   ]
  },
  {
   "cell_type": "code",
   "execution_count": 4,
   "id": "6c629d5d",
   "metadata": {},
   "outputs": [
    {
     "name": "stdout",
     "output_type": "stream",
     "text": [
      "São Paulo\n",
      "Londres\n",
      "Tóquio\n",
      "Paris\n"
     ]
    }
   ],
   "source": [
    "nomes_cidades = \"São Paulo\", \"Londres\", \"Tóquio\", \"Paris\"\n",
    "for nome in nomes_cidades:\n",
    "    print(nome)"
   ]
  },
  {
   "cell_type": "markdown",
   "id": "9ce9cdc4",
   "metadata": {},
   "source": [
    "###### Utilizando - diciornário"
   ]
  },
  {
   "cell_type": "code",
   "execution_count": 10,
   "id": "34533ed2",
   "metadata": {},
   "outputs": [
    {
     "name": "stdout",
     "output_type": "stream",
     "text": [
      "Nome: Manaus\n",
      "Estado: Amazonas\n",
      "População Milhões: 4207714\n"
     ]
    }
   ],
   "source": [
    "cidade = {\n",
    "    \"Nome\": \"Manaus\",\n",
    "    \"Estado\": \"Amazonas\",\n",
    "    \"População Milhões\": 4207714,\n",
    "}\n",
    "for chave in cidade:\n",
    "    print(f\"{chave}: {cidade[chave]}\")"
   ]
  },
  {
   "cell_type": "markdown",
   "id": "4d7a891d",
   "metadata": {},
   "source": [
    "###### Utilizando - range"
   ]
  },
  {
   "cell_type": "code",
   "execution_count": 11,
   "id": "5e4963c2",
   "metadata": {},
   "outputs": [
    {
     "name": "stdout",
     "output_type": "stream",
     "text": [
      "['São Paulo', 'Londres', 'Tóquio', 'Paris']\n"
     ]
    }
   ],
   "source": [
    "nomes_cidades = [\"São Paulo\", \"Londres\", \"Tóquio\", \"Paris\"]\n",
    "for nome in nomes_cidades:\n",
    "    nome = \"Manaus\"\n",
    "print(nomes_cidades)"
   ]
  },
  {
   "cell_type": "code",
   "execution_count": 16,
   "id": "40903de4",
   "metadata": {},
   "outputs": [
    {
     "name": "stdout",
     "output_type": "stream",
     "text": [
      "['Manaus', 'Manaus', 'Manaus', 'Manaus']\n"
     ]
    }
   ],
   "source": [
    "for posicao in range(len(nomes_cidades)):\n",
    "    nomes_cidades[posicao] = \"Manaus\"\n",
    "print(nomes_cidades)"
   ]
  },
  {
   "cell_type": "code",
   "execution_count": 18,
   "id": "58741a52",
   "metadata": {},
   "outputs": [
    {
     "name": "stdout",
     "output_type": "stream",
     "text": [
      "[0, 1, 2, 3, 4, 5, 6, 7, 8, 9]\n",
      "[2, 3, 4, 5, 6, 7, 8, 9]\n",
      "[2, 4, 6, 8]\n"
     ]
    }
   ],
   "source": [
    "print(list(range(10)))\n",
    "print(list(range(2, 10)))\n",
    "print(list(range(2, 10, 2)))"
   ]
  }
 ],
 "metadata": {
  "kernelspec": {
   "display_name": "Python 3 (ipykernel)",
   "language": "python",
   "name": "python3"
  },
  "language_info": {
   "codemirror_mode": {
    "name": "ipython",
    "version": 3
   },
   "file_extension": ".py",
   "mimetype": "text/x-python",
   "name": "python",
   "nbconvert_exporter": "python",
   "pygments_lexer": "ipython3",
   "version": "3.9.12"
  }
 },
 "nbformat": 4,
 "nbformat_minor": 5
}
