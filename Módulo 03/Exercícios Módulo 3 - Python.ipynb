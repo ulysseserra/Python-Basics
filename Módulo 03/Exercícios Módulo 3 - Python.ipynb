{
 "cells": [
  {
   "cell_type": "markdown",
   "id": "66292bce",
   "metadata": {},
   "source": [
    "# Exercícios Módulo 3 - Python"
   ]
  },
  {
   "cell_type": "markdown",
   "id": "784dfe6b",
   "metadata": {},
   "source": [
    "##### Para os exercícios 1 ao 3, você precisará do arquivo: alunos.csv. Clique aqui\n",
    "##### para baixá-lo (ao salvar, renomeie o arquivo).<br/>\n",
    "##### 1 - Neste exercício você deve criar um programa que abra o arquivo\n",
    "##### \"alunos.csv\" e imprima o conteúdo do arquivo linha a linha.<br/>\n",
    "##### Note que esse é o primeiro exercício de uma sequência, então o seu código\n",
    "##### pode ser reaproveitado nos exercícios seguintes. Dito isso, a recomendação é\n",
    "##### usar a biblioteca CSV para ler o arquivo mesmo que não seja realmente\n",
    "##### necessário para esse primeiro item."
   ]
  },
  {
   "cell_type": "code",
   "execution_count": 30,
   "id": "6bf6d2a3",
   "metadata": {},
   "outputs": [
    {
     "name": "stdout",
     "output_type": "stream",
     "text": [
      "['110201', 'Antonio Carlos', '20', 6.5, 8.5, 7.0, 6.0]\n",
      "['110212', 'Ana Beatriz', '20', 7.0, 7.0, 7.0, 8.0]\n",
      "['110218', 'Carlos Vernes', '17', 7.0, 7.0, 7.0, 7.0]\n",
      "['110307', 'Francisco Cunha', '20', 9.0, 8.5, 8.5, 10.0]\n",
      "['110275', 'Sandra Rosa', '15', 6.5, 7.5, 7.0, 7.0]\n",
      "['110281', 'Juliana Arruda', '18', 7.5, 7.0, 7.5, 8.0]\n",
      "['110301', 'Joao Galo', '20', 5.0, 6.5, 7.0, 5.0]\n",
      "['110263', 'José Valente', '20', 10.0, 10.0, 10.0, 10.0]\n",
      "['110271', 'Maria Ferreira', '19', 9.5, 8.0, 7.0, 10.0]\n",
      "['110236', 'Adriana Tavares', '20', 8.0, 8.0, 8.0, 8.0]\n"
     ]
    }
   ],
   "source": [
    "import csv\n",
    "with open(\"D:/Python-Basics-Lets-Code-2022/Módulo 03/alunos.csv\", \"r\", encoding=\"utf-8\") as arquivo_csv:\n",
    "    leitor = csv.reader(arquivo_csv)\n",
    "    header_alunos = next(leitor)\n",
    "    for linha in leitor:\n",
    "        for valor in range(3, 7):\n",
    "            linha[valor] = float(linha[valor])\n",
    "        print(linha)"
   ]
  },
  {
   "cell_type": "markdown",
   "id": "7b34d43f",
   "metadata": {},
   "source": [
    "##### 2 - Para o segundo exercício, você deve criar um programa que realize uma\n",
    "##### cópia do arquivo \"alunos.csv\". Essa cópia deve ser um arquivo chamado\n",
    "##### \"alunos_copia.csv\".<br/>\n",
    "##### Novamente, aqui você também não precisa utilizar a biblioteca CSV mas se\n",
    "##### usar, seu código pode ser reutilizado na próxima questão sem muitas\n",
    "##### modificações."
   ]
  },
  {
   "cell_type": "code",
   "execution_count": 32,
   "id": "9bb7110b",
   "metadata": {},
   "outputs": [],
   "source": [
    "with open(\"D:/Python-Basics-Lets-Code-2022/Módulo 03/alunos.csv\", \"r\", encoding=\"utf-8\") as arquivo_csv:\n",
    "    leitor = csv.reader(arquivo_csv)\n",
    "    with open(\"D:/Python-Basics-Lets-Code-2022/Módulo 03/alunos_copia.csv\", \"w\", encoding=\"utf-8\", newline=(\"\")) as arquivo_copia:\n",
    "        escritor = csv.writer(arquivo_copia)\n",
    "        for linha in leitor:\n",
    "            escritor.writerow(linha)"
   ]
  },
  {
   "cell_type": "markdown",
   "id": "f8ab81da",
   "metadata": {},
   "source": [
    "##### 3 - Finalmente chegamos ao último exercício dessa sequência relacionada à\n",
    "##### manipulação de arquivos.<br/>\n",
    "##### Neste exercício você deve criar um novo arquivo chamado\n",
    "##### \"alunos_media.csv\". Esse novo arquivo é uma cópia de \"alunos.csv\" porém\n",
    "##### com uma coluna a mais chamada \"Média\" que vai abrigar os valores das\n",
    "##### médias das provas de cada aluno da lista.<br/>\n",
    "##### Se você utilizou a biblioteca CSV para realizar os dois primeiros exercícios,\n",
    "##### muito será reaproveitado aqui. A biblioteca CSV permite a interpretação de\n",
    "##### cada linha como listas, que são fáceis de manipular."
   ]
  },
  {
   "cell_type": "code",
   "execution_count": 42,
   "id": "858e2b19",
   "metadata": {},
   "outputs": [],
   "source": [
    "with open(\"D:/Python-Basics-Lets-Code-2022/Módulo 03/alunos.csv\", \"r\", encoding=\"utf-8\") as arquivo_csv:\n",
    "    leitor = csv.reader(arquivo_csv)\n",
    "    header_media = next(leitor) \n",
    "    with open(\"D:/Python-Basics-Lets-Code-2022/Módulo 03/alunos_media.csv\", \"w\", encoding=\"utf-8\", newline=(\"\")) as arquivo_copia:\n",
    "        escritor = csv.writer(arquivo_copia)\n",
    "        header_media.append(\"Media\")\n",
    "        escritor.writerow(header_media)\n",
    "        for linha in leitor:\n",
    "            for valor in range(3, 7):\n",
    "                linha[valor] = float(linha[valor])\n",
    "            linha.append(sum(linha[3:7])/len(linha[3:7]))\n",
    "            escritor.writerow(linha)"
   ]
  },
  {
   "cell_type": "markdown",
   "id": "e40e12d1",
   "metadata": {},
   "source": [
    "##### 4 - Você conhece Star Wars? Se trata, obviamente, da famosa saga espacial\n",
    "##### criada por George Lucas em 1977 e que deu origem a símbolos do cinema e\n",
    "##### da cultura pop com o imponente vilão Darth Vader ou o simpático robô\n",
    "##### R2-D2. A ideia desse exercício é justamente extrair informações do\n",
    "##### personagem Darth Vader através de uma API de Star Wars chamada SWAPI.<br/>\n",
    "##### Utilize a URL \"https://swapi.dev/api/people/4/\" para fazer a requisição dos\n",
    "##### dados de Darth Vader e extraia as informações \"name\" (nome), \"height\"\n",
    "##### (altura), \"mass\" (massa) e \"birth_year\" (ano de nascimento) e imprima cada\n",
    "##### dado em uma linha.<br/>\n",
    "##### Dica: caso não se lembre de como fazer isso, assista novamente a aula sobre\n",
    "##### API porque o exemplo da aula pode te ajudar."
   ]
  },
  {
   "cell_type": "code",
   "execution_count": 44,
   "id": "bc6cbd35",
   "metadata": {},
   "outputs": [],
   "source": [
    "import requests as r"
   ]
  },
  {
   "cell_type": "code",
   "execution_count": 45,
   "id": "306b8519",
   "metadata": {},
   "outputs": [
    {
     "name": "stdout",
     "output_type": "stream",
     "text": [
      "200\n"
     ]
    }
   ],
   "source": [
    "url = \"https://swapi.dev/api/people/4/\"\n",
    "req = requests.get(url)\n",
    "print(req.status_code)"
   ]
  },
  {
   "cell_type": "code",
   "execution_count": 50,
   "id": "7245d8d0",
   "metadata": {
    "scrolled": false
   },
   "outputs": [
    {
     "name": "stdout",
     "output_type": "stream",
     "text": [
      "{'name': 'Darth Vader', 'height': '202', 'mass': '136', 'hair_color': 'none', 'skin_color': 'white', 'eye_color': 'yellow', 'birth_year': '41.9BBY', 'gender': 'male', 'homeworld': 'https://swapi.dev/api/planets/1/', 'films': ['https://swapi.dev/api/films/1/', 'https://swapi.dev/api/films/2/', 'https://swapi.dev/api/films/3/', 'https://swapi.dev/api/films/6/'], 'species': [], 'vehicles': [], 'starships': ['https://swapi.dev/api/starships/13/'], 'created': '2014-12-10T15:18:20.704000Z', 'edited': '2014-12-20T21:17:50.313000Z', 'url': 'https://swapi.dev/api/people/4/'}\n"
     ]
    }
   ],
   "source": [
    "dados_starwars = req.json()\n",
    "print(dados_starwars)"
   ]
  },
  {
   "cell_type": "code",
   "execution_count": 51,
   "id": "374eaef6",
   "metadata": {},
   "outputs": [],
   "source": [
    "dados_starwars = []\n",
    "for obs in dados_starwars:\n",
    "    dados_starwars.append([obs[\"Name\"][\"Height\"][\"Mass\"][\"Birth_yaer\"]])"
   ]
  },
  {
   "cell_type": "markdown",
   "id": "d51ac723",
   "metadata": {},
   "source": [
    "##### 5 - Em 2019 surgiram os primeiros casos de COVID-19 que se alastrou pelo\n",
    "##### mundo resultando numa pandemia. A proposta deste exercício é utilizar\n",
    "##### uma API com informações de COVID-19 do mundo todo desde o início da\n",
    "##### proliferação e descobrir que dia o Brasil confirmou o primeiro caso de\n",
    "##### Coronavírus.<br/>\n",
    "##### Para fazer isso, utilize a URL \"https://api.covid19api.com/country/brazil\" em seu\n",
    "##### código. Ela retorna uma lista de dicionários, onde cada dicionário traz\n",
    "##### informações através das chaves:<br/>\n",
    "##### \"ID\", \"Country\", \"CountryCode\", \"Province\", \"City\",\n",
    "##### \"CityCode\",\"Lat\",\"Lon\",\"Confirmed\",\"Deaths\", \"Recovered\", \"Active\" e \"Date\".<br/>\n",
    "##### Utilize essas informações e retorne a data em que o Brasil confirmou o\n",
    "##### primeiro caso de COVID."
   ]
  },
  {
   "cell_type": "code",
   "execution_count": 54,
   "id": "beb56200",
   "metadata": {},
   "outputs": [],
   "source": [
    "import requests as r"
   ]
  },
  {
   "cell_type": "code",
   "execution_count": 55,
   "id": "e0181be8",
   "metadata": {},
   "outputs": [
    {
     "name": "stdout",
     "output_type": "stream",
     "text": [
      "200\n"
     ]
    }
   ],
   "source": [
    "url = \"https://api.covid19api.com/country/brazil\"\n",
    "req = r.get(url)\n",
    "print(req.status_code)"
   ]
  },
  {
   "cell_type": "code",
   "execution_count": 58,
   "id": "7160b85c",
   "metadata": {},
   "outputs": [],
   "source": [
    "raw_data = req.json()"
   ]
  },
  {
   "cell_type": "code",
   "execution_count": 59,
   "id": "4af66800",
   "metadata": {
    "scrolled": true
   },
   "outputs": [
    {
     "data": {
      "text/plain": [
       "{'ID': '82bb182c-e73f-41d1-a634-58e23d0875c2',\n",
       " 'Country': 'Brazil',\n",
       " 'CountryCode': 'BR',\n",
       " 'Province': '',\n",
       " 'City': '',\n",
       " 'CityCode': '',\n",
       " 'Lat': '-14.24',\n",
       " 'Lon': '-51.93',\n",
       " 'Confirmed': 0,\n",
       " 'Deaths': 0,\n",
       " 'Recovered': 0,\n",
       " 'Active': 0,\n",
       " 'Date': '2020-01-22T00:00:00Z'}"
      ]
     },
     "execution_count": 59,
     "metadata": {},
     "output_type": "execute_result"
    }
   ],
   "source": [
    "raw_data[0]"
   ]
  },
  {
   "cell_type": "code",
   "execution_count": null,
   "id": "a257e20e",
   "metadata": {},
   "outputs": [],
   "source": []
  }
 ],
 "metadata": {
  "kernelspec": {
   "display_name": "Python 3 (ipykernel)",
   "language": "python",
   "name": "python3"
  },
  "language_info": {
   "codemirror_mode": {
    "name": "ipython",
    "version": 3
   },
   "file_extension": ".py",
   "mimetype": "text/x-python",
   "name": "python",
   "nbconvert_exporter": "python",
   "pygments_lexer": "ipython3",
   "version": "3.9.12"
  }
 },
 "nbformat": 4,
 "nbformat_minor": 5
}
